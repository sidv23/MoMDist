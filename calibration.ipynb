{
 "cells": [
  {
   "cell_type": "markdown",
   "metadata": {},
   "source": [
    "# Calibration for $Q$"
   ]
  },
  {
   "cell_type": "markdown",
   "metadata": {},
   "source": [
    "### Initialization"
   ]
  },
  {
   "cell_type": "code",
   "execution_count": 2,
   "metadata": {},
   "outputs": [],
   "source": [
    "using DrWatson\n",
    "@quickactivate \"momdist\""
   ]
  },
  {
   "cell_type": "code",
   "execution_count": 3,
   "metadata": {},
   "outputs": [],
   "source": [
    "ENV[\"LD_LIBRARY_PATH\"] = \"\"\n",
    "ENV[\"JULIA_GR_PROVIDER\"] = \"GR\"\n",
    "\n",
    "using Plots, StatsPlots"
   ]
  },
  {
   "cell_type": "code",
   "execution_count": 4,
   "metadata": {},
   "outputs": [],
   "source": [
    "using Random, Distributions, Parameters, Pipe, ProgressMeter, JLD2\n",
    "using Distances, LinearAlgebra, Statistics, LazySets, LambertW, Hyperopt\n",
    "using Ripserer, PersistenceDiagrams, PersistenceDiagramsBase"
   ]
  },
  {
   "cell_type": "code",
   "execution_count": 5,
   "metadata": {},
   "outputs": [],
   "source": [
    "import RobustTDA as rtda"
   ]
  },
  {
   "cell_type": "code",
   "execution_count": 6,
   "metadata": {},
   "outputs": [
    {
     "data": {
      "text/plain": [
       "30"
      ]
     },
     "execution_count": 6,
     "metadata": {},
     "output_type": "execute_result"
    }
   ],
   "source": [
    "ProgressMeter.ijulia_behavior(:clear)\n",
    "plot_par = rtda.plot_params(alpha=0.3);\n",
    "\n",
    "reps = 30"
   ]
  },
  {
   "cell_type": "markdown",
   "metadata": {},
   "source": [
    "## Lepski's method"
   ]
  },
  {
   "cell_type": "code",
   "execution_count": 7,
   "metadata": {},
   "outputs": [
    {
     "data": {
      "text/plain": [
       "one_lepski_iter (generic function with 3 methods)"
      ]
     },
     "execution_count": 7,
     "metadata": {},
     "output_type": "execute_result"
    }
   ],
   "source": [
    "function one_lepski_iter(mmin=50, mmax=150; params)\n",
    "\n",
    "    # Generate Random Data\n",
    "    begin\n",
    "        n = 500\n",
    "        m = rand([mmin:1:mmax]..., 1)[1]\n",
    "\n",
    "        # Signal\n",
    "        signal = 2.5 .* rtda.randCircle(n, sigma=0.05)\n",
    "\n",
    "        # Noise\n",
    "        l = 1.5\n",
    "        win = (-l, l, -l, l)\n",
    "        noise = rtda.randMClust(m, window=win, λ1=2, λ2=10, r=0.05)\n",
    "\n",
    "        # Concatenate\n",
    "        X = [signal; noise] |> rtda._ArrayOfVectors_to_ArrayOfTuples\n",
    "        Xn = X |> rtda._ArrayOfTuples_to_ArrayOfVectors\n",
    "    end\n",
    "\n",
    "    m̂ = rtda.lepski(Xn=Xn, params = params)\n",
    "    return (m̂ - m) / m\n",
    "end"
   ]
  },
  {
   "cell_type": "code",
   "execution_count": 8,
   "metadata": {},
   "outputs": [
    {
     "name": "stderr",
     "output_type": "stream",
     "text": [
      "\u001b[32mProgress:  84%|██████████████████████████████████▎      |  ETA: 0:00:06\u001b[39m\n",
      "\u001b[32mProgress: 100%|█████████████████████████████████████████| Time: 0:27:49\u001b[39m\n"
     ]
    }
   ],
   "source": [
    "# Initialize the Hyperparameters\n",
    "\n",
    "θ = rtda.lepski_params(\n",
    "    a=0.2,\n",
    "    b=1,\n",
    "    mmin=50,\n",
    "    mmax=200,\n",
    "    pi=1.1,\n",
    "    δ=0.01\n",
    ")\n",
    "\n",
    "Lep = Any[]\n",
    "\n",
    "Random.seed!(2022)\n",
    "\n",
    "prog = Progress(reps)\n",
    "for i in 1:reps\n",
    "    println(\"\\n i=$i\")\n",
    "    Lep = vcat(Lep, one_lepski_iter(params=θ));\n",
    "    next!(prog)\n",
    "end\n",
    "\n",
    "# jldsave(datadir(\"Lep.jld2\"); Lep)"
   ]
  },
  {
   "cell_type": "markdown",
   "metadata": {},
   "source": [
    "### Heuristic Procedure"
   ]
  },
  {
   "cell_type": "code",
   "execution_count": 9,
   "metadata": {},
   "outputs": [
    {
     "data": {
      "text/plain": [
       "heuristic (generic function with 1 method)"
      ]
     },
     "execution_count": 9,
     "metadata": {},
     "output_type": "execute_result"
    }
   ],
   "source": [
    "function heuristic(Xn; Q, p=1)\n",
    "    D1 = @pipe rtda.momdist(Xn, floor(Int, Q)) |> rtda.fit(Xn, _) |> rtda.wrips(Xn, w=_, p=p)\n",
    "    D2 = @pipe rtda.momdist(Xn, floor(Int, Q)) |> rtda.fit(Xn, _) |> rtda.wrips(Xn, w=_, p=p)\n",
    "    return Bottleneck()(D1, D2)\n",
    "end"
   ]
  },
  {
   "cell_type": "code",
   "execution_count": 10,
   "metadata": {},
   "outputs": [
    {
     "data": {
      "text/plain": [
       "one_iter (generic function with 4 methods)"
      ]
     },
     "execution_count": 10,
     "metadata": {},
     "output_type": "execute_result"
    }
   ],
   "source": [
    "function one_iter(mmin=50, step=5, mmax=150; method=heuristic, loops=10)\n",
    "\n",
    "    # Generate Random Data\n",
    "    begin\n",
    "        n = 500\n",
    "        m = rand([mmin:1:mmax]..., 1)[1]\n",
    "\n",
    "        # Signal\n",
    "        signal = 2.5 .* rtda.randCircle(n, sigma=0.05)\n",
    "\n",
    "        # Noise\n",
    "        l = 1.5\n",
    "        win = (-l, l, -l, l)\n",
    "        noise = rtda.randMClust(m, window=win, λ1=2, λ2=10, r=0.05)\n",
    "\n",
    "        # Concatenate\n",
    "        X = [signal; noise] |> rtda._ArrayOfVectors_to_ArrayOfTuples\n",
    "        Xn = X |> rtda._ArrayOfTuples_to_ArrayOfVectors\n",
    "    end\n",
    "\n",
    "    Opt = @hyperopt for i = loops,\n",
    "        sampler = RandomSampler(),\n",
    "        Q = (2*mmin+1):step:(2*mmax+1),\n",
    "        b = [true, false]\n",
    "        method(Xn, Q=Q, p=1)\n",
    "    end\n",
    "\n",
    "    return (round(Int, 0.5 * (Opt.minimizer[1] - 1)) - m) / m\n",
    "end"
   ]
  },
  {
   "cell_type": "code",
   "execution_count": null,
   "metadata": {
    "scrolled": true
   },
   "outputs": [
    {
     "name": "stderr",
     "output_type": "stream",
     "text": [
      "\u001b[32mHyperoptimizing 100%|████████████████████████████████████| Time: 0:01:44\u001b[39m\n",
      "\u001b[32mHyperoptimizing 100%|████████████████████████████████████| Time: 0:02:01\u001b[39m\n",
      "\u001b[32mHyperoptimizing 100%|████████████████████████████████████| Time: 0:02:06\u001b[39m\n",
      "\u001b[32mHyperoptimizing 100%|████████████████████████████████████| Time: 0:01:23\u001b[39m\n",
      "\u001b[32mHyperoptimizing 100%|████████████████████████████████████| Time: 0:01:34\u001b[39m\n",
      "\u001b[32mHyperoptimizing 100%|████████████████████████████████████| Time: 0:01:52\u001b[39m\n",
      "\u001b[32mHyperoptimizing 100%|████████████████████████████████████| Time: 0:01:37\u001b[39m\n",
      "\u001b[32mHyperoptimizing 100%|████████████████████████████████████| Time: 0:01:39\u001b[39m\n",
      "\u001b[32mHyperoptimizing 100%|████████████████████████████████████| Time: 0:01:53\u001b[39m\n",
      "\u001b[32mHyperoptimizing 100%|████████████████████████████████████| Time: 0:01:37\u001b[39m\n",
      "\u001b[32mHyperoptimizing 100%|████████████████████████████████████| Time: 0:01:28\u001b[39m\n",
      "\u001b[32mHyperoptimizing 100%|████████████████████████████████████| Time: 0:02:42\u001b[39m\n",
      "\u001b[32mHyperoptimizing 100%|████████████████████████████████████| Time: 0:02:02\u001b[39m\n",
      "\u001b[32mHyperoptimizing 100%|████████████████████████████████████| Time: 0:01:28\u001b[39m\n",
      "\u001b[32mHyperoptimizing 100%|████████████████████████████████████| Time: 0:01:43\u001b[39m\n",
      "\u001b[32mHyperoptimizing 100%|████████████████████████████████████| Time: 0:01:33\u001b[39m\n",
      "\u001b[32mHyperoptimizing 100%|████████████████████████████████████| Time: 0:01:41\u001b[39m\n",
      "\u001b[32mHyperoptimizing 100%|████████████████████████████████████| Time: 0:01:24\u001b[39m\n",
      "\u001b[32mHyperoptimizing 100%|████████████████████████████████████| Time: 0:01:28\u001b[39m\n",
      "\u001b[32mHyperoptimizing 100%|████████████████████████████████████| Time: 0:01:28\u001b[39m\n",
      "\u001b[32mHyperoptimizing 100%|████████████████████████████████████| Time: 0:01:28\u001b[39m\n",
      "\u001b[32mHyperoptimizing 100%|████████████████████████████████████| Time: 0:02:22\u001b[39m\n",
      "\u001b[32mHyperoptimizing 100%|████████████████████████████████████| Time: 0:01:49\u001b[39m\n",
      "\u001b[32mHyperoptimizing 100%|████████████████████████████████████| Time: 0:01:26\u001b[39m\n",
      "\u001b[32mHyperoptimizing 100%|████████████████████████████████████| Time: 0:02:24\u001b[39m\n",
      "\u001b[32mHyperoptimizing 100%|████████████████████████████████████| Time: 0:01:33\u001b[39m\n",
      "\u001b[32mHyperoptimizing 100%|████████████████████████████████████| Time: 0:01:23\u001b[39m\n",
      "\u001b[32mHyperoptimizing 100%|████████████████████████████████████| Time: 0:02:18\u001b[39m\n",
      "\u001b[32mHyperoptimizing 100%|████████████████████████████████████| Time: 0:02:05\u001b[39m\n",
      "\u001b[32mHyperoptimizing  28%|██████████▏                         |  ETA: 0:01:27\u001b[39m"
     ]
    }
   ],
   "source": [
    "Heu = Any[]\n",
    "\n",
    "Random.seed!(2022)\n",
    "for i in 1:reps\n",
    "    # println(\"\\n i=$i\")\n",
    "    Heu = vcat(Heu, one_iter(loops=50))\n",
    "end\n",
    "\n",
    "\n",
    "# jldsave(datadir(\"Heu.jld2\"); Heu)"
   ]
  },
  {
   "cell_type": "code",
   "execution_count": null,
   "metadata": {},
   "outputs": [],
   "source": [
    "plt = boxplot(Lep, label = \"Lepski\", legend = :topright)\n",
    "boxplot(plt, Heu,  label=\"Heuristic\")"
   ]
  }
 ],
 "metadata": {
  "kernelspec": {
   "display_name": "Julia 1.7.3",
   "language": "julia",
   "name": "julia-1.7"
  },
  "language_info": {
   "file_extension": ".jl",
   "mimetype": "application/julia",
   "name": "julia",
   "version": "1.7.3"
  }
 },
 "nbformat": 4,
 "nbformat_minor": 4
}
