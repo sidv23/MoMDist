{
 "cells": [
  {
   "cell_type": "markdown",
   "metadata": {},
   "source": [
    "# Calibration for $Q$"
   ]
  },
  {
   "cell_type": "markdown",
   "metadata": {},
   "source": [
    "### Initialization"
   ]
  },
  {
   "cell_type": "code",
   "execution_count": 1,
   "metadata": {},
   "outputs": [],
   "source": [
    "using DrWatson\n",
    "@quickactivate \"wrips-code\""
   ]
  },
  {
   "cell_type": "code",
   "execution_count": 2,
   "metadata": {},
   "outputs": [],
   "source": [
    "using Ripserer, PersistenceDiagrams, PersistenceDiagramsBase\n",
    "using InteractiveUtils, MLDataUtils, JLD2"
   ]
  },
  {
   "cell_type": "code",
   "execution_count": 3,
   "metadata": {},
   "outputs": [],
   "source": [
    "using Random, Distributions, Parameters, Pipe, ProgressMeter, Plots\n",
    "using Distances, LinearAlgebra, Statistics, LazySets, Roots"
   ]
  },
  {
   "cell_type": "code",
   "execution_count": 4,
   "metadata": {},
   "outputs": [],
   "source": [
    "include(srcdir(\"wRips.jl\"))\n",
    "import Main.wRips"
   ]
  },
  {
   "cell_type": "code",
   "execution_count": null,
   "metadata": {},
   "outputs": [],
   "source": [
    "plot_par = wRips.plot_params(alpha = 0.3)\n",
    "theme(:dao)"
   ]
  },
  {
   "cell_type": "markdown",
   "metadata": {},
   "source": [
    "### Data"
   ]
  },
  {
   "cell_type": "code",
   "execution_count": null,
   "metadata": {},
   "outputs": [],
   "source": [
    "Random.seed!(2021)\n",
    "\n",
    "n = 500\n",
    "m = rand([50:1:150]..., 1)\n",
    "\n",
    "l = 1.5\n",
    "win = (-l, l, -l, l)\n",
    "noise = wRips.randMClust(m..., window = win, λ1 = 2, λ2 = 10, r = 0.05)\n",
    "# noise = wRips.randUnif(m..., a = -1, b = 1)\n",
    "signal = 2.5 .* wRips.randCircle(n, σ = 0.05)\n",
    "\n",
    "\n",
    "X = [signal; noise]\n",
    "Xn_signal = wRips._ArrayOfTuples_to_ArrayOfVectors(signal)\n",
    "\n",
    "Xn = wRips._ArrayOfTuples_to_ArrayOfVectors(X);"
   ]
  },
  {
   "cell_type": "code",
   "execution_count": null,
   "metadata": {},
   "outputs": [],
   "source": [
    "Q_seq = range(10, 300, step = 10)\n",
    "nQ = length(Q_seq)\n",
    "num_iter = 20"
   ]
  },
  {
   "cell_type": "code",
   "execution_count": null,
   "metadata": {},
   "outputs": [],
   "source": [
    "S = [[Dict() for _ = 1:num_iter] for _ in Q_seq];\n",
    "@showprogress for i in 1:length(Q_seq)\n",
    "    for j = 1:M\n",
    "        dnq = wRips.momdist(Xn, Q_seq[i])\n",
    "        w_momdist = wRips.fit(Xn, dnq)\n",
    "        D_momdist = wRips.wrips(Xn, w = w_momdist, p = 1)\n",
    "        S[i][j] = Dict(\"pers mom\" => D_momdist[2] .|> persistence |> maximum)\n",
    "    end\n",
    "end"
   ]
  },
  {
   "cell_type": "markdown",
   "metadata": {},
   "source": [
    "### Method $\\#1$"
   ]
  },
  {
   "cell_type": "code",
   "execution_count": null,
   "metadata": {},
   "outputs": [],
   "source": [
    "method1 = D -> D |> persistence |> maximum"
   ]
  },
  {
   "cell_type": "code",
   "execution_count": null,
   "metadata": {},
   "outputs": [],
   "source": [
    "y = [  ]"
   ]
  }
 ],
 "metadata": {
  "kernelspec": {
   "display_name": "Julia 1.7.1",
   "language": "julia",
   "name": "julia-1.7"
  },
  "language_info": {
   "file_extension": ".jl",
   "mimetype": "application/julia",
   "name": "julia",
   "version": "1.7.1"
  },
  "orig_nbformat": 4
 },
 "nbformat": 4,
 "nbformat_minor": 2
}
