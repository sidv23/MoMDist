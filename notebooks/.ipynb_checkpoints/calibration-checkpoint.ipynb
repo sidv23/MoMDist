{
 "cells": [
  {
   "cell_type": "markdown",
   "metadata": {},
   "source": [
    "# Calibration for $Q$"
   ]
  },
  {
   "cell_type": "markdown",
   "metadata": {},
   "source": [
    "### Initialization"
   ]
  },
  {
   "cell_type": "code",
   "execution_count": 2,
   "metadata": {},
   "outputs": [],
   "source": [
    "using DrWatson\n",
    "@quickactivate \"momdist\""
   ]
  },
  {
   "cell_type": "code",
   "execution_count": 3,
   "metadata": {},
   "outputs": [],
   "source": [
    "ENV[\"LD_LIBRARY_PATH\"] = \"\"\n",
    "ENV[\"JULIA_GR_PROVIDER\"] = \"GR\"\n",
    "\n",
    "using Plots, StatsPlots"
   ]
  },
  {
   "cell_type": "code",
   "execution_count": 4,
   "metadata": {},
   "outputs": [],
   "source": [
    "using Random, Distributions, Parameters, Pipe, ProgressMeter, JLD2\n",
    "using Distances, LinearAlgebra, Statistics, LazySets, LambertW, Hyperopt\n",
    "using Ripserer, PersistenceDiagrams, PersistenceDiagramsBase"
   ]
  },
  {
   "cell_type": "code",
   "execution_count": 5,
   "metadata": {},
   "outputs": [],
   "source": [
    "import RobustTDA as rtda"
   ]
  },
  {
   "cell_type": "code",
   "execution_count": 6,
   "metadata": {},
   "outputs": [
    {
     "data": {
      "text/plain": [
       "30"
      ]
     },
     "execution_count": 6,
     "metadata": {},
     "output_type": "execute_result"
    }
   ],
   "source": [
    "ProgressMeter.ijulia_behavior(:clear)\n",
    "plot_par = rtda.plot_params(alpha=0.3);\n",
    "\n",
    "reps = 30"
   ]
  },
  {
   "cell_type": "markdown",
   "metadata": {},
   "source": [
    "## Lepski's method"
   ]
  },
  {
   "cell_type": "code",
   "execution_count": 7,
   "metadata": {},
   "outputs": [
    {
     "data": {
      "text/plain": [
       "one_lepski_iter (generic function with 3 methods)"
      ]
     },
     "execution_count": 7,
     "metadata": {},
     "output_type": "execute_result"
    }
   ],
   "source": [
    "function one_lepski_iter(mmin=50, mmax=150; params)\n",
    "\n",
    "    # Generate Random Data\n",
    "    begin\n",
    "        n = 500\n",
    "        m = rand([mmin:1:mmax]..., 1)[1]\n",
    "\n",
    "        # Signal\n",
    "        signal = 2.5 .* rtda.randCircle(n, sigma=0.05)\n",
    "\n",
    "        # Noise\n",
    "        l = 1.5\n",
    "        win = (-l, l, -l, l)\n",
    "        noise = rtda.randMClust(m, window=win, λ1=2, λ2=10, r=0.05)\n",
    "\n",
    "        # Concatenate\n",
    "        X = [signal; noise] |> rtda._ArrayOfVectors_to_ArrayOfTuples\n",
    "        Xn = X |> rtda._ArrayOfTuples_to_ArrayOfVectors\n",
    "    end\n",
    "\n",
    "    m̂ = rtda.lepski(Xn=Xn, params = params)\n",
    "    return (m̂ - m) / m\n",
    "end"
   ]
  },
  {
   "cell_type": "code",
   "execution_count": 8,
   "metadata": {},
   "outputs": [
    {
     "name": "stderr",
     "output_type": "stream",
     "text": [
      "\u001b[32mProgress:  84%|██████████████████████████████████▎      |  ETA: 0:00:06\u001b[39m\n",
      "\u001b[32mProgress: 100%|█████████████████████████████████████████| Time: 0:27:49\u001b[39m\n"
     ]
    }
   ],
   "source": [
    "# Initialize the Hyperparameters\n",
    "\n",
    "θ = rtda.lepski_params(\n",
    "    a=0.2,\n",
    "    b=1,\n",
    "    mmin=50,\n",
    "    mmax=200,\n",
    "    pi=1.1,\n",
    "    δ=0.01\n",
    ")\n",
    "\n",
    "Lep = Any[]\n",
    "\n",
    "Random.seed!(2022)\n",
    "\n",
    "prog = Progress(reps)\n",
    "for i in 1:reps\n",
    "    println(\"\\n i=$i\")\n",
    "    Lep = vcat(Lep, one_lepski_iter(params=θ));\n",
    "    next!(prog)\n",
    "end\n",
    "\n",
    "# jldsave(datadir(\"Lep.jld2\"); Lep)"
   ]
  },
  {
   "cell_type": "markdown",
   "metadata": {},
   "source": [
    "### Heuristic Procedure"
   ]
  },
  {
   "cell_type": "code",
   "execution_count": 9,
   "metadata": {},
   "outputs": [
    {
     "data": {
      "text/plain": [
       "heuristic (generic function with 1 method)"
      ]
     },
     "execution_count": 9,
     "metadata": {},
     "output_type": "execute_result"
    }
   ],
   "source": [
    "function heuristic(Xn; Q, p=1)\n",
    "    D1 = @pipe rtda.momdist(Xn, floor(Int, Q)) |> rtda.fit(Xn, _) |> rtda.wrips(Xn, w=_, p=p)\n",
    "    D2 = @pipe rtda.momdist(Xn, floor(Int, Q)) |> rtda.fit(Xn, _) |> rtda.wrips(Xn, w=_, p=p)\n",
    "    return Bottleneck()(D1, D2)\n",
    "end"
   ]
  },
  {
   "cell_type": "code",
   "execution_count": 10,
   "metadata": {},
   "outputs": [
    {
     "data": {
      "text/plain": [
       "one_iter (generic function with 4 methods)"
      ]
     },
     "execution_count": 10,
     "metadata": {},
     "output_type": "execute_result"
    }
   ],
   "source": [
    "function one_iter(mmin=50, step=5, mmax=150; method=heuristic, loops=10)\n",
    "\n",
    "    # Generate Random Data\n",
    "    begin\n",
    "        n = 500\n",
    "        m = rand([mmin:1:mmax]..., 1)[1]\n",
    "\n",
    "        # Signal\n",
    "        signal = 2.5 .* rtda.randCircle(n, sigma=0.05)\n",
    "\n",
    "        # Noise\n",
    "        l = 1.5\n",
    "        win = (-l, l, -l, l)\n",
    "        noise = rtda.randMClust(m, window=win, λ1=2, λ2=10, r=0.05)\n",
    "\n",
    "        # Concatenate\n",
    "        X = [signal; noise] |> rtda._ArrayOfVectors_to_ArrayOfTuples\n",
    "        Xn = X |> rtda._ArrayOfTuples_to_ArrayOfVectors\n",
    "    end\n",
    "\n",
    "    Opt = @hyperopt for i = loops,\n",
    "        sampler = RandomSampler(),\n",
    "        Q = (2*mmin+1):step:(2*mmax+1),\n",
    "        b = [true, false]\n",
    "        method(Xn, Q=Q, p=1)\n",
    "    end\n",
    "\n",
    "    return (round(Int, 0.5 * (Opt.minimizer[1] - 1)) - m) / m\n",
    "end"
   ]
  },
  {
   "cell_type": "code",
   "execution_count": 11,
   "metadata": {
    "scrolled": true
   },
   "outputs": [
    {
     "name": "stderr",
     "output_type": "stream",
     "text": [
      "\u001b[32mHyperoptimizing 100%|████████████████████████████████████| Time: 0:01:44\u001b[39m\n",
      "\u001b[32mHyperoptimizing 100%|████████████████████████████████████| Time: 0:02:01\u001b[39m\n",
      "\u001b[32mHyperoptimizing 100%|████████████████████████████████████| Time: 0:02:06\u001b[39m\n",
      "\u001b[32mHyperoptimizing 100%|████████████████████████████████████| Time: 0:01:23\u001b[39m\n",
      "\u001b[32mHyperoptimizing 100%|████████████████████████████████████| Time: 0:01:34\u001b[39m\n",
      "\u001b[32mHyperoptimizing 100%|████████████████████████████████████| Time: 0:01:52\u001b[39m\n",
      "\u001b[32mHyperoptimizing 100%|████████████████████████████████████| Time: 0:01:37\u001b[39m\n",
      "\u001b[32mHyperoptimizing 100%|████████████████████████████████████| Time: 0:01:39\u001b[39m\n",
      "\u001b[32mHyperoptimizing 100%|████████████████████████████████████| Time: 0:01:53\u001b[39m\n",
      "\u001b[32mHyperoptimizing 100%|████████████████████████████████████| Time: 0:01:37\u001b[39m\n",
      "\u001b[32mHyperoptimizing 100%|████████████████████████████████████| Time: 0:01:28\u001b[39m\n",
      "\u001b[32mHyperoptimizing 100%|████████████████████████████████████| Time: 0:02:42\u001b[39m\n",
      "\u001b[32mHyperoptimizing 100%|████████████████████████████████████| Time: 0:02:02\u001b[39m\n",
      "\u001b[32mHyperoptimizing 100%|████████████████████████████████████| Time: 0:01:28\u001b[39m\n",
      "\u001b[32mHyperoptimizing 100%|████████████████████████████████████| Time: 0:01:43\u001b[39m\n",
      "\u001b[32mHyperoptimizing 100%|████████████████████████████████████| Time: 0:01:33\u001b[39m\n",
      "\u001b[32mHyperoptimizing 100%|████████████████████████████████████| Time: 0:01:41\u001b[39m\n",
      "\u001b[32mHyperoptimizing 100%|████████████████████████████████████| Time: 0:01:24\u001b[39m\n",
      "\u001b[32mHyperoptimizing 100%|████████████████████████████████████| Time: 0:01:28\u001b[39m\n",
      "\u001b[32mHyperoptimizing 100%|████████████████████████████████████| Time: 0:01:28\u001b[39m\n",
      "\u001b[32mHyperoptimizing 100%|████████████████████████████████████| Time: 0:01:28\u001b[39m\n",
      "\u001b[32mHyperoptimizing 100%|████████████████████████████████████| Time: 0:02:22\u001b[39m\n",
      "\u001b[32mHyperoptimizing 100%|████████████████████████████████████| Time: 0:01:49\u001b[39m\n",
      "\u001b[32mHyperoptimizing 100%|████████████████████████████████████| Time: 0:01:26\u001b[39m\n",
      "\u001b[32mHyperoptimizing 100%|████████████████████████████████████| Time: 0:02:24\u001b[39m\n",
      "\u001b[32mHyperoptimizing 100%|████████████████████████████████████| Time: 0:01:33\u001b[39m\n",
      "\u001b[32mHyperoptimizing 100%|████████████████████████████████████| Time: 0:01:23\u001b[39m\n",
      "\u001b[32mHyperoptimizing 100%|████████████████████████████████████| Time: 0:02:18\u001b[39m\n",
      "\u001b[32mHyperoptimizing 100%|████████████████████████████████████| Time: 0:02:05\u001b[39m\n",
      "\u001b[32mHyperoptimizing 100%|████████████████████████████████████| Time: 0:01:57\u001b[39m\n"
     ]
    }
   ],
   "source": [
    "Heu = Any[]\n",
    "\n",
    "Random.seed!(2022)\n",
    "for i in 1:reps\n",
    "    # println(\"\\n i=$i\")\n",
    "    Heu = vcat(Heu, one_iter(loops=50))\n",
    "end\n",
    "\n",
    "\n",
    "# jldsave(datadir(\"Heu.jld2\"); Heu)"
   ]
  },
  {
   "cell_type": "code",
   "execution_count": 13,
   "metadata": {},
   "outputs": [
    {
     "data": {
      "image/svg+xml": [
       "<?xml version=\"1.0\" encoding=\"utf-8\"?>\n",
       "<svg xmlns=\"http://www.w3.org/2000/svg\" xmlns:xlink=\"http://www.w3.org/1999/xlink\" width=\"600\" height=\"400\" viewBox=\"0 0 2400 1600\">\n",
       "<defs>\n",
       "  <clipPath id=\"clip250\">\n",
       "    <rect x=\"0\" y=\"0\" width=\"2400\" height=\"1600\"/>\n",
       "  </clipPath>\n",
       "</defs>\n",
       "<path clip-path=\"url(#clip250)\" d=\"\n",
       "M0 1600 L2400 1600 L2400 0 L0 0  Z\n",
       "  \" fill=\"#ffffff\" fill-rule=\"evenodd\" fill-opacity=\"1\"/>\n",
       "<defs>\n",
       "  <clipPath id=\"clip251\">\n",
       "    <rect x=\"480\" y=\"0\" width=\"1681\" height=\"1600\"/>\n",
       "  </clipPath>\n",
       "</defs>\n",
       "<path clip-path=\"url(#clip250)\" d=\"\n",
       "M192.941 1486.45 L2352.76 1486.45 L2352.76 47.2441 L192.941 47.2441  Z\n",
       "  \" fill=\"#ffffff\" fill-rule=\"evenodd\" fill-opacity=\"1\"/>\n",
       "<defs>\n",
       "  <clipPath id=\"clip252\">\n",
       "    <rect x=\"192\" y=\"47\" width=\"2161\" height=\"1440\"/>\n",
       "  </clipPath>\n",
       "</defs>\n",
       "<polyline clip-path=\"url(#clip252)\" style=\"stroke:#000000; stroke-linecap:butt; stroke-linejoin:round; stroke-width:2; stroke-opacity:0.1; fill:none\" points=\"\n",
       "  423.864,1486.45 423.864,47.2441 \n",
       "  \"/>\n",
       "<polyline clip-path=\"url(#clip252)\" style=\"stroke:#000000; stroke-linecap:butt; stroke-linejoin:round; stroke-width:2; stroke-opacity:0.1; fill:none\" points=\"\n",
       "  706.859,1486.45 706.859,47.2441 \n",
       "  \"/>\n",
       "<polyline clip-path=\"url(#clip252)\" style=\"stroke:#000000; stroke-linecap:butt; stroke-linejoin:round; stroke-width:2; stroke-opacity:0.1; fill:none\" points=\"\n",
       "  989.854,1486.45 989.854,47.2441 \n",
       "  \"/>\n",
       "<polyline clip-path=\"url(#clip252)\" style=\"stroke:#000000; stroke-linecap:butt; stroke-linejoin:round; stroke-width:2; stroke-opacity:0.1; fill:none\" points=\"\n",
       "  1272.85,1486.45 1272.85,47.2441 \n",
       "  \"/>\n",
       "<polyline clip-path=\"url(#clip252)\" style=\"stroke:#000000; stroke-linecap:butt; stroke-linejoin:round; stroke-width:2; stroke-opacity:0.1; fill:none\" points=\"\n",
       "  1555.84,1486.45 1555.84,47.2441 \n",
       "  \"/>\n",
       "<polyline clip-path=\"url(#clip252)\" style=\"stroke:#000000; stroke-linecap:butt; stroke-linejoin:round; stroke-width:2; stroke-opacity:0.1; fill:none\" points=\"\n",
       "  1838.84,1486.45 1838.84,47.2441 \n",
       "  \"/>\n",
       "<polyline clip-path=\"url(#clip252)\" style=\"stroke:#000000; stroke-linecap:butt; stroke-linejoin:round; stroke-width:2; stroke-opacity:0.1; fill:none\" points=\"\n",
       "  2121.83,1486.45 2121.83,47.2441 \n",
       "  \"/>\n",
       "<polyline clip-path=\"url(#clip250)\" style=\"stroke:#000000; stroke-linecap:butt; stroke-linejoin:round; stroke-width:4; stroke-opacity:1; fill:none\" points=\"\n",
       "  192.941,1486.45 2352.76,1486.45 \n",
       "  \"/>\n",
       "<polyline clip-path=\"url(#clip250)\" style=\"stroke:#000000; stroke-linecap:butt; stroke-linejoin:round; stroke-width:4; stroke-opacity:1; fill:none\" points=\"\n",
       "  423.864,1486.45 423.864,1467.55 \n",
       "  \"/>\n",
       "<polyline clip-path=\"url(#clip250)\" style=\"stroke:#000000; stroke-linecap:butt; stroke-linejoin:round; stroke-width:4; stroke-opacity:1; fill:none\" points=\"\n",
       "  706.859,1486.45 706.859,1467.55 \n",
       "  \"/>\n",
       "<polyline clip-path=\"url(#clip250)\" style=\"stroke:#000000; stroke-linecap:butt; stroke-linejoin:round; stroke-width:4; stroke-opacity:1; fill:none\" points=\"\n",
       "  989.854,1486.45 989.854,1467.55 \n",
       "  \"/>\n",
       "<polyline clip-path=\"url(#clip250)\" style=\"stroke:#000000; stroke-linecap:butt; stroke-linejoin:round; stroke-width:4; stroke-opacity:1; fill:none\" points=\"\n",
       "  1272.85,1486.45 1272.85,1467.55 \n",
       "  \"/>\n",
       "<polyline clip-path=\"url(#clip250)\" style=\"stroke:#000000; stroke-linecap:butt; stroke-linejoin:round; stroke-width:4; stroke-opacity:1; fill:none\" points=\"\n",
       "  1555.84,1486.45 1555.84,1467.55 \n",
       "  \"/>\n",
       "<polyline clip-path=\"url(#clip250)\" style=\"stroke:#000000; stroke-linecap:butt; stroke-linejoin:round; stroke-width:4; stroke-opacity:1; fill:none\" points=\"\n",
       "  1838.84,1486.45 1838.84,1467.55 \n",
       "  \"/>\n",
       "<polyline clip-path=\"url(#clip250)\" style=\"stroke:#000000; stroke-linecap:butt; stroke-linejoin:round; stroke-width:4; stroke-opacity:1; fill:none\" points=\"\n",
       "  2121.83,1486.45 2121.83,1467.55 \n",
       "  \"/>\n",
       "<path clip-path=\"url(#clip250)\" d=\"M386.665 1517.37 Q383.054 1517.37 381.226 1520.93 Q379.42 1524.47 379.42 1531.6 Q379.42 1538.71 381.226 1542.27 Q383.054 1545.82 386.665 1545.82 Q390.3 1545.82 392.105 1542.27 Q393.934 1538.71 393.934 1531.6 Q393.934 1524.47 392.105 1520.93 Q390.3 1517.37 386.665 1517.37 M386.665 1513.66 Q392.476 1513.66 395.531 1518.27 Q398.61 1522.85 398.61 1531.6 Q398.61 1540.33 395.531 1544.94 Q392.476 1549.52 386.665 1549.52 Q380.855 1549.52 377.777 1544.94 Q374.721 1540.33 374.721 1531.6 Q374.721 1522.85 377.777 1518.27 Q380.855 1513.66 386.665 1513.66 Z\" fill=\"#000000\" fill-rule=\"evenodd\" fill-opacity=\"1\" /><path clip-path=\"url(#clip250)\" d=\"M406.827 1542.97 L411.712 1542.97 L411.712 1548.85 L406.827 1548.85 L406.827 1542.97 Z\" fill=\"#000000\" fill-rule=\"evenodd\" fill-opacity=\"1\" /><path clip-path=\"url(#clip250)\" d=\"M420.716 1514.29 L442.938 1514.29 L442.938 1516.28 L430.392 1548.85 L425.508 1548.85 L437.313 1518.22 L420.716 1518.22 L420.716 1514.29 Z\" fill=\"#000000\" fill-rule=\"evenodd\" fill-opacity=\"1\" /><path clip-path=\"url(#clip250)\" d=\"M452.105 1514.29 L470.461 1514.29 L470.461 1518.22 L456.387 1518.22 L456.387 1526.7 Q457.406 1526.35 458.424 1526.19 Q459.443 1526 460.461 1526 Q466.248 1526 469.628 1529.17 Q473.008 1532.34 473.008 1537.76 Q473.008 1543.34 469.535 1546.44 Q466.063 1549.52 459.744 1549.52 Q457.568 1549.52 455.299 1549.15 Q453.054 1548.78 450.647 1548.04 L450.647 1543.34 Q452.73 1544.47 454.952 1545.03 Q457.174 1545.58 459.651 1545.58 Q463.656 1545.58 465.994 1543.48 Q468.332 1541.37 468.332 1537.76 Q468.332 1534.15 465.994 1532.04 Q463.656 1529.94 459.651 1529.94 Q457.776 1529.94 455.901 1530.35 Q454.049 1530.77 452.105 1531.65 L452.105 1514.29 Z\" fill=\"#000000\" fill-rule=\"evenodd\" fill-opacity=\"1\" /><path clip-path=\"url(#clip250)\" d=\"M658.931 1544.91 L666.57 1544.91 L666.57 1518.55 L658.26 1520.21 L658.26 1515.95 L666.524 1514.29 L671.199 1514.29 L671.199 1544.91 L678.838 1544.91 L678.838 1548.85 L658.931 1548.85 L658.931 1544.91 Z\" fill=\"#000000\" fill-rule=\"evenodd\" fill-opacity=\"1\" /><path clip-path=\"url(#clip250)\" d=\"M688.283 1542.97 L693.167 1542.97 L693.167 1548.85 L688.283 1548.85 L688.283 1542.97 Z\" fill=\"#000000\" fill-rule=\"evenodd\" fill-opacity=\"1\" /><path clip-path=\"url(#clip250)\" d=\"M713.352 1517.37 Q709.741 1517.37 707.912 1520.93 Q706.107 1524.47 706.107 1531.6 Q706.107 1538.71 707.912 1542.27 Q709.741 1545.82 713.352 1545.82 Q716.986 1545.82 718.792 1542.27 Q720.62 1538.71 720.62 1531.6 Q720.62 1524.47 718.792 1520.93 Q716.986 1517.37 713.352 1517.37 M713.352 1513.66 Q719.162 1513.66 722.218 1518.27 Q725.296 1522.85 725.296 1531.6 Q725.296 1540.33 722.218 1544.94 Q719.162 1549.52 713.352 1549.52 Q707.542 1549.52 704.463 1544.94 Q701.408 1540.33 701.408 1531.6 Q701.408 1522.85 704.463 1518.27 Q707.542 1513.66 713.352 1513.66 Z\" fill=\"#000000\" fill-rule=\"evenodd\" fill-opacity=\"1\" /><path clip-path=\"url(#clip250)\" d=\"M743.514 1517.37 Q739.903 1517.37 738.074 1520.93 Q736.269 1524.47 736.269 1531.6 Q736.269 1538.71 738.074 1542.27 Q739.903 1545.82 743.514 1545.82 Q747.148 1545.82 748.954 1542.27 Q750.782 1538.71 750.782 1531.6 Q750.782 1524.47 748.954 1520.93 Q747.148 1517.37 743.514 1517.37 M743.514 1513.66 Q749.324 1513.66 752.38 1518.27 Q755.458 1522.85 755.458 1531.6 Q755.458 1540.33 752.38 1544.94 Q749.324 1549.52 743.514 1549.52 Q737.704 1549.52 734.625 1544.94 Q731.569 1540.33 731.569 1531.6 Q731.569 1522.85 734.625 1518.27 Q737.704 1513.66 743.514 1513.66 Z\" fill=\"#000000\" fill-rule=\"evenodd\" fill-opacity=\"1\" /><path clip-path=\"url(#clip250)\" d=\"M942.423 1544.91 L950.062 1544.91 L950.062 1518.55 L941.752 1520.21 L941.752 1515.95 L950.016 1514.29 L954.692 1514.29 L954.692 1544.91 L962.331 1544.91 L962.331 1548.85 L942.423 1548.85 L942.423 1544.91 Z\" fill=\"#000000\" fill-rule=\"evenodd\" fill-opacity=\"1\" /><path clip-path=\"url(#clip250)\" d=\"M971.775 1542.97 L976.659 1542.97 L976.659 1548.85 L971.775 1548.85 L971.775 1542.97 Z\" fill=\"#000000\" fill-rule=\"evenodd\" fill-opacity=\"1\" /><path clip-path=\"url(#clip250)\" d=\"M990.872 1544.91 L1007.19 1544.91 L1007.19 1548.85 L985.247 1548.85 L985.247 1544.91 Q987.909 1542.16 992.492 1537.53 Q997.099 1532.88 998.279 1531.53 Q1000.52 1529.01 1001.4 1527.27 Q1002.31 1525.51 1002.31 1523.82 Q1002.31 1521.07 1000.36 1519.33 Q998.442 1517.6 995.34 1517.6 Q993.141 1517.6 990.687 1518.36 Q988.256 1519.13 985.479 1520.68 L985.479 1515.95 Q988.303 1514.82 990.756 1514.24 Q993.21 1513.66 995.247 1513.66 Q1000.62 1513.66 1003.81 1516.35 Q1007.01 1519.03 1007.01 1523.52 Q1007.01 1525.65 1006.2 1527.57 Q1005.41 1529.47 1003.3 1532.07 Q1002.72 1532.74 999.622 1535.95 Q996.52 1539.15 990.872 1544.91 Z\" fill=\"#000000\" fill-rule=\"evenodd\" fill-opacity=\"1\" /><path clip-path=\"url(#clip250)\" d=\"M1017.05 1514.29 L1035.41 1514.29 L1035.41 1518.22 L1021.33 1518.22 L1021.33 1526.7 Q1022.35 1526.35 1023.37 1526.19 Q1024.39 1526 1025.41 1526 Q1031.2 1526 1034.58 1529.17 Q1037.96 1532.34 1037.96 1537.76 Q1037.96 1543.34 1034.48 1546.44 Q1031.01 1549.52 1024.69 1549.52 Q1022.52 1549.52 1020.25 1549.15 Q1018 1548.78 1015.59 1548.04 L1015.59 1543.34 Q1017.68 1544.47 1019.9 1545.03 Q1022.12 1545.58 1024.6 1545.58 Q1028.6 1545.58 1030.94 1543.48 Q1033.28 1541.37 1033.28 1537.76 Q1033.28 1534.15 1030.94 1532.04 Q1028.6 1529.94 1024.6 1529.94 Q1022.72 1529.94 1020.85 1530.35 Q1019 1530.77 1017.05 1531.65 L1017.05 1514.29 Z\" fill=\"#000000\" fill-rule=\"evenodd\" fill-opacity=\"1\" /><path clip-path=\"url(#clip250)\" d=\"M1224.92 1544.91 L1232.56 1544.91 L1232.56 1518.55 L1224.25 1520.21 L1224.25 1515.95 L1232.51 1514.29 L1237.19 1514.29 L1237.19 1544.91 L1244.83 1544.91 L1244.83 1548.85 L1224.92 1548.85 L1224.92 1544.91 Z\" fill=\"#000000\" fill-rule=\"evenodd\" fill-opacity=\"1\" /><path clip-path=\"url(#clip250)\" d=\"M1254.27 1542.97 L1259.16 1542.97 L1259.16 1548.85 L1254.27 1548.85 L1254.27 1542.97 Z\" fill=\"#000000\" fill-rule=\"evenodd\" fill-opacity=\"1\" /><path clip-path=\"url(#clip250)\" d=\"M1269.39 1514.29 L1287.74 1514.29 L1287.74 1518.22 L1273.67 1518.22 L1273.67 1526.7 Q1274.69 1526.35 1275.71 1526.19 Q1276.73 1526 1277.74 1526 Q1283.53 1526 1286.91 1529.17 Q1290.29 1532.34 1290.29 1537.76 Q1290.29 1543.34 1286.82 1546.44 Q1283.35 1549.52 1277.03 1549.52 Q1274.85 1549.52 1272.58 1549.15 Q1270.34 1548.78 1267.93 1548.04 L1267.93 1543.34 Q1270.01 1544.47 1272.23 1545.03 Q1274.46 1545.58 1276.93 1545.58 Q1280.94 1545.58 1283.28 1543.48 Q1285.61 1541.37 1285.61 1537.76 Q1285.61 1534.15 1283.28 1532.04 Q1280.94 1529.94 1276.93 1529.94 Q1275.06 1529.94 1273.18 1530.35 Q1271.33 1530.77 1269.39 1531.65 L1269.39 1514.29 Z\" fill=\"#000000\" fill-rule=\"evenodd\" fill-opacity=\"1\" /><path clip-path=\"url(#clip250)\" d=\"M1309.5 1517.37 Q1305.89 1517.37 1304.06 1520.93 Q1302.26 1524.47 1302.26 1531.6 Q1302.26 1538.71 1304.06 1542.27 Q1305.89 1545.82 1309.5 1545.82 Q1313.14 1545.82 1314.94 1542.27 Q1316.77 1538.71 1316.77 1531.6 Q1316.77 1524.47 1314.94 1520.93 Q1313.14 1517.37 1309.5 1517.37 M1309.5 1513.66 Q1315.31 1513.66 1318.37 1518.27 Q1321.45 1522.85 1321.45 1531.6 Q1321.45 1540.33 1318.37 1544.94 Q1315.31 1549.52 1309.5 1549.52 Q1303.69 1549.52 1300.61 1544.94 Q1297.56 1540.33 1297.56 1531.6 Q1297.56 1522.85 1300.61 1518.27 Q1303.69 1513.66 1309.5 1513.66 Z\" fill=\"#000000\" fill-rule=\"evenodd\" fill-opacity=\"1\" /><path clip-path=\"url(#clip250)\" d=\"M1508.41 1544.91 L1516.05 1544.91 L1516.05 1518.55 L1507.74 1520.21 L1507.74 1515.95 L1516.01 1514.29 L1520.68 1514.29 L1520.68 1544.91 L1528.32 1544.91 L1528.32 1548.85 L1508.41 1548.85 L1508.41 1544.91 Z\" fill=\"#000000\" fill-rule=\"evenodd\" fill-opacity=\"1\" /><path clip-path=\"url(#clip250)\" d=\"M1537.76 1542.97 L1542.65 1542.97 L1542.65 1548.85 L1537.76 1548.85 L1537.76 1542.97 Z\" fill=\"#000000\" fill-rule=\"evenodd\" fill-opacity=\"1\" /><path clip-path=\"url(#clip250)\" d=\"M1551.65 1514.29 L1573.88 1514.29 L1573.88 1516.28 L1561.33 1548.85 L1556.44 1548.85 L1568.25 1518.22 L1551.65 1518.22 L1551.65 1514.29 Z\" fill=\"#000000\" fill-rule=\"evenodd\" fill-opacity=\"1\" /><path clip-path=\"url(#clip250)\" d=\"M1583.04 1514.29 L1601.4 1514.29 L1601.4 1518.22 L1587.32 1518.22 L1587.32 1526.7 Q1588.34 1526.35 1589.36 1526.19 Q1590.38 1526 1591.4 1526 Q1597.19 1526 1600.56 1529.17 Q1603.94 1532.34 1603.94 1537.76 Q1603.94 1543.34 1600.47 1546.44 Q1597 1549.52 1590.68 1549.52 Q1588.5 1549.52 1586.24 1549.15 Q1583.99 1548.78 1581.58 1548.04 L1581.58 1543.34 Q1583.67 1544.47 1585.89 1545.03 Q1588.11 1545.58 1590.59 1545.58 Q1594.59 1545.58 1596.93 1543.48 Q1599.27 1541.37 1599.27 1537.76 Q1599.27 1534.15 1596.93 1532.04 Q1594.59 1529.94 1590.59 1529.94 Q1588.71 1529.94 1586.84 1530.35 Q1584.99 1530.77 1583.04 1531.65 L1583.04 1514.29 Z\" fill=\"#000000\" fill-rule=\"evenodd\" fill-opacity=\"1\" /><path clip-path=\"url(#clip250)\" d=\"M1795 1544.91 L1811.31 1544.91 L1811.31 1548.85 L1789.37 1548.85 L1789.37 1544.91 Q1792.03 1542.16 1796.62 1537.53 Q1801.22 1532.88 1802.4 1531.53 Q1804.65 1529.01 1805.53 1527.27 Q1806.43 1525.51 1806.43 1523.82 Q1806.43 1521.07 1804.49 1519.33 Q1802.56 1517.6 1799.46 1517.6 Q1797.26 1517.6 1794.81 1518.36 Q1792.38 1519.13 1789.6 1520.68 L1789.6 1515.95 Q1792.43 1514.82 1794.88 1514.24 Q1797.33 1513.66 1799.37 1513.66 Q1804.74 1513.66 1807.93 1516.35 Q1811.13 1519.03 1811.13 1523.52 Q1811.13 1525.65 1810.32 1527.57 Q1809.53 1529.47 1807.43 1532.07 Q1806.85 1532.74 1803.75 1535.95 Q1800.64 1539.15 1795 1544.91 Z\" fill=\"#000000\" fill-rule=\"evenodd\" fill-opacity=\"1\" /><path clip-path=\"url(#clip250)\" d=\"M1821.13 1542.97 L1826.01 1542.97 L1826.01 1548.85 L1821.13 1548.85 L1821.13 1542.97 Z\" fill=\"#000000\" fill-rule=\"evenodd\" fill-opacity=\"1\" /><path clip-path=\"url(#clip250)\" d=\"M1846.2 1517.37 Q1842.59 1517.37 1840.76 1520.93 Q1838.95 1524.47 1838.95 1531.6 Q1838.95 1538.71 1840.76 1542.27 Q1842.59 1545.82 1846.2 1545.82 Q1849.83 1545.82 1851.64 1542.27 Q1853.47 1538.71 1853.47 1531.6 Q1853.47 1524.47 1851.64 1520.93 Q1849.83 1517.37 1846.2 1517.37 M1846.2 1513.66 Q1852.01 1513.66 1855.06 1518.27 Q1858.14 1522.85 1858.14 1531.6 Q1858.14 1540.33 1855.06 1544.94 Q1852.01 1549.52 1846.2 1549.52 Q1840.39 1549.52 1837.31 1544.94 Q1834.25 1540.33 1834.25 1531.6 Q1834.25 1522.85 1837.31 1518.27 Q1840.39 1513.66 1846.2 1513.66 Z\" fill=\"#000000\" fill-rule=\"evenodd\" fill-opacity=\"1\" /><path clip-path=\"url(#clip250)\" d=\"M1876.36 1517.37 Q1872.75 1517.37 1870.92 1520.93 Q1869.12 1524.47 1869.12 1531.6 Q1869.12 1538.71 1870.92 1542.27 Q1872.75 1545.82 1876.36 1545.82 Q1879.99 1545.82 1881.8 1542.27 Q1883.63 1538.71 1883.63 1531.6 Q1883.63 1524.47 1881.8 1520.93 Q1879.99 1517.37 1876.36 1517.37 M1876.36 1513.66 Q1882.17 1513.66 1885.23 1518.27 Q1888.3 1522.85 1888.3 1531.6 Q1888.3 1540.33 1885.23 1544.94 Q1882.17 1549.52 1876.36 1549.52 Q1870.55 1549.52 1867.47 1544.94 Q1864.42 1540.33 1864.42 1531.6 Q1864.42 1522.85 1867.47 1518.27 Q1870.55 1513.66 1876.36 1513.66 Z\" fill=\"#000000\" fill-rule=\"evenodd\" fill-opacity=\"1\" /><path clip-path=\"url(#clip250)\" d=\"M2078.49 1544.91 L2094.81 1544.91 L2094.81 1548.85 L2072.86 1548.85 L2072.86 1544.91 Q2075.52 1542.16 2080.11 1537.53 Q2084.71 1532.88 2085.89 1531.53 Q2088.14 1529.01 2089.02 1527.27 Q2089.92 1525.51 2089.92 1523.82 Q2089.92 1521.07 2087.98 1519.33 Q2086.06 1517.6 2082.96 1517.6 Q2080.76 1517.6 2078.3 1518.36 Q2075.87 1519.13 2073.09 1520.68 L2073.09 1515.95 Q2075.92 1514.82 2078.37 1514.24 Q2080.83 1513.66 2082.86 1513.66 Q2088.23 1513.66 2091.43 1516.35 Q2094.62 1519.03 2094.62 1523.52 Q2094.62 1525.65 2093.81 1527.57 Q2093.02 1529.47 2090.92 1532.07 Q2090.34 1532.74 2087.24 1535.95 Q2084.14 1539.15 2078.49 1544.91 Z\" fill=\"#000000\" fill-rule=\"evenodd\" fill-opacity=\"1\" /><path clip-path=\"url(#clip250)\" d=\"M2104.62 1542.97 L2109.51 1542.97 L2109.51 1548.85 L2104.62 1548.85 L2104.62 1542.97 Z\" fill=\"#000000\" fill-rule=\"evenodd\" fill-opacity=\"1\" /><path clip-path=\"url(#clip250)\" d=\"M2123.72 1544.91 L2140.04 1544.91 L2140.04 1548.85 L2118.09 1548.85 L2118.09 1544.91 Q2120.76 1542.16 2125.34 1537.53 Q2129.95 1532.88 2131.13 1531.53 Q2133.37 1529.01 2134.25 1527.27 Q2135.15 1525.51 2135.15 1523.82 Q2135.15 1521.07 2133.21 1519.33 Q2131.29 1517.6 2128.19 1517.6 Q2125.99 1517.6 2123.53 1518.36 Q2121.1 1519.13 2118.33 1520.68 L2118.33 1515.95 Q2121.15 1514.82 2123.6 1514.24 Q2126.06 1513.66 2128.09 1513.66 Q2133.46 1513.66 2136.66 1516.35 Q2139.85 1519.03 2139.85 1523.52 Q2139.85 1525.65 2139.04 1527.57 Q2138.26 1529.47 2136.15 1532.07 Q2135.57 1532.74 2132.47 1535.95 Q2129.37 1539.15 2123.72 1544.91 Z\" fill=\"#000000\" fill-rule=\"evenodd\" fill-opacity=\"1\" /><path clip-path=\"url(#clip250)\" d=\"M2149.9 1514.29 L2168.26 1514.29 L2168.26 1518.22 L2154.18 1518.22 L2154.18 1526.7 Q2155.2 1526.35 2156.22 1526.19 Q2157.24 1526 2158.26 1526 Q2164.04 1526 2167.42 1529.17 Q2170.8 1532.34 2170.8 1537.76 Q2170.8 1543.34 2167.33 1546.44 Q2163.86 1549.52 2157.54 1549.52 Q2155.36 1549.52 2153.09 1549.15 Q2150.85 1548.78 2148.44 1548.04 L2148.44 1543.34 Q2150.52 1544.47 2152.75 1545.03 Q2154.97 1545.58 2157.45 1545.58 Q2161.45 1545.58 2163.79 1543.48 Q2166.13 1541.37 2166.13 1537.76 Q2166.13 1534.15 2163.79 1532.04 Q2161.45 1529.94 2157.45 1529.94 Q2155.57 1529.94 2153.7 1530.35 Q2151.84 1530.77 2149.9 1531.65 L2149.9 1514.29 Z\" fill=\"#000000\" fill-rule=\"evenodd\" fill-opacity=\"1\" /><polyline clip-path=\"url(#clip252)\" style=\"stroke:#000000; stroke-linecap:butt; stroke-linejoin:round; stroke-width:2; stroke-opacity:0.1; fill:none\" points=\"\n",
       "  192.941,1394.68 2352.76,1394.68 \n",
       "  \"/>\n",
       "<polyline clip-path=\"url(#clip252)\" style=\"stroke:#000000; stroke-linecap:butt; stroke-linejoin:round; stroke-width:2; stroke-opacity:0.1; fill:none\" points=\"\n",
       "  192.941,1090.54 2352.76,1090.54 \n",
       "  \"/>\n",
       "<polyline clip-path=\"url(#clip252)\" style=\"stroke:#000000; stroke-linecap:butt; stroke-linejoin:round; stroke-width:2; stroke-opacity:0.1; fill:none\" points=\"\n",
       "  192.941,786.389 2352.76,786.389 \n",
       "  \"/>\n",
       "<polyline clip-path=\"url(#clip252)\" style=\"stroke:#000000; stroke-linecap:butt; stroke-linejoin:round; stroke-width:2; stroke-opacity:0.1; fill:none\" points=\"\n",
       "  192.941,482.242 2352.76,482.242 \n",
       "  \"/>\n",
       "<polyline clip-path=\"url(#clip252)\" style=\"stroke:#000000; stroke-linecap:butt; stroke-linejoin:round; stroke-width:2; stroke-opacity:0.1; fill:none\" points=\"\n",
       "  192.941,178.094 2352.76,178.094 \n",
       "  \"/>\n",
       "<polyline clip-path=\"url(#clip250)\" style=\"stroke:#000000; stroke-linecap:butt; stroke-linejoin:round; stroke-width:4; stroke-opacity:1; fill:none\" points=\"\n",
       "  192.941,1486.45 192.941,47.2441 \n",
       "  \"/>\n",
       "<polyline clip-path=\"url(#clip250)\" style=\"stroke:#000000; stroke-linecap:butt; stroke-linejoin:round; stroke-width:4; stroke-opacity:1; fill:none\" points=\"\n",
       "  192.941,1394.68 211.838,1394.68 \n",
       "  \"/>\n",
       "<polyline clip-path=\"url(#clip250)\" style=\"stroke:#000000; stroke-linecap:butt; stroke-linejoin:round; stroke-width:4; stroke-opacity:1; fill:none\" points=\"\n",
       "  192.941,1090.54 211.838,1090.54 \n",
       "  \"/>\n",
       "<polyline clip-path=\"url(#clip250)\" style=\"stroke:#000000; stroke-linecap:butt; stroke-linejoin:round; stroke-width:4; stroke-opacity:1; fill:none\" points=\"\n",
       "  192.941,786.389 211.838,786.389 \n",
       "  \"/>\n",
       "<polyline clip-path=\"url(#clip250)\" style=\"stroke:#000000; stroke-linecap:butt; stroke-linejoin:round; stroke-width:4; stroke-opacity:1; fill:none\" points=\"\n",
       "  192.941,482.242 211.838,482.242 \n",
       "  \"/>\n",
       "<polyline clip-path=\"url(#clip250)\" style=\"stroke:#000000; stroke-linecap:butt; stroke-linejoin:round; stroke-width:4; stroke-opacity:1; fill:none\" points=\"\n",
       "  192.941,178.094 211.838,178.094 \n",
       "  \"/>\n",
       "<path clip-path=\"url(#clip250)\" d=\"M50.9921 1395.14 L80.6679 1395.14 L80.6679 1399.07 L50.9921 1399.07 L50.9921 1395.14 Z\" fill=\"#000000\" fill-rule=\"evenodd\" fill-opacity=\"1\" /><path clip-path=\"url(#clip250)\" d=\"M100.76 1380.48 Q97.1493 1380.48 95.3206 1384.05 Q93.515 1387.59 93.515 1394.72 Q93.515 1401.83 95.3206 1405.39 Q97.1493 1408.93 100.76 1408.93 Q104.395 1408.93 106.2 1405.39 Q108.029 1401.83 108.029 1394.72 Q108.029 1387.59 106.2 1384.05 Q104.395 1380.48 100.76 1380.48 M100.76 1376.78 Q106.571 1376.78 109.626 1381.39 Q112.705 1385.97 112.705 1394.72 Q112.705 1403.45 109.626 1408.05 Q106.571 1412.64 100.76 1412.64 Q94.9502 1412.64 91.8715 1408.05 Q88.816 1403.45 88.816 1394.72 Q88.816 1385.97 91.8715 1381.39 Q94.9502 1376.78 100.76 1376.78 Z\" fill=\"#000000\" fill-rule=\"evenodd\" fill-opacity=\"1\" /><path clip-path=\"url(#clip250)\" d=\"M120.922 1406.08 L125.807 1406.08 L125.807 1411.96 L120.922 1411.96 L120.922 1406.08 Z\" fill=\"#000000\" fill-rule=\"evenodd\" fill-opacity=\"1\" /><path clip-path=\"url(#clip250)\" d=\"M136.038 1377.4 L154.394 1377.4 L154.394 1381.34 L140.32 1381.34 L140.32 1389.81 Q141.339 1389.46 142.357 1389.3 Q143.376 1389.12 144.394 1389.12 Q150.181 1389.12 153.561 1392.29 Q156.941 1395.46 156.941 1400.88 Q156.941 1406.45 153.468 1409.56 Q149.996 1412.64 143.677 1412.64 Q141.501 1412.64 139.232 1412.27 Q136.987 1411.89 134.58 1411.15 L134.58 1406.45 Q136.663 1407.59 138.885 1408.14 Q141.107 1408.7 143.584 1408.7 Q147.589 1408.7 149.927 1406.59 Q152.265 1404.49 152.265 1400.88 Q152.265 1397.27 149.927 1395.16 Q147.589 1393.05 143.584 1393.05 Q141.709 1393.05 139.834 1393.47 Q137.982 1393.89 136.038 1394.77 L136.038 1377.4 Z\" fill=\"#000000\" fill-rule=\"evenodd\" fill-opacity=\"1\" /><path clip-path=\"url(#clip250)\" d=\"M99.765 1076.34 Q96.1539 1076.34 94.3252 1079.9 Q92.5197 1083.44 92.5197 1090.57 Q92.5197 1097.68 94.3252 1101.24 Q96.1539 1104.78 99.765 1104.78 Q103.399 1104.78 105.205 1101.24 Q107.033 1097.68 107.033 1090.57 Q107.033 1083.44 105.205 1079.9 Q103.399 1076.34 99.765 1076.34 M99.765 1072.63 Q105.575 1072.63 108.631 1077.24 Q111.709 1081.82 111.709 1090.57 Q111.709 1099.3 108.631 1103.9 Q105.575 1108.49 99.765 1108.49 Q93.9549 1108.49 90.8762 1103.9 Q87.8206 1099.3 87.8206 1090.57 Q87.8206 1081.82 90.8762 1077.24 Q93.9549 1072.63 99.765 1072.63 Z\" fill=\"#000000\" fill-rule=\"evenodd\" fill-opacity=\"1\" /><path clip-path=\"url(#clip250)\" d=\"M119.927 1101.94 L124.811 1101.94 L124.811 1107.82 L119.927 1107.82 L119.927 1101.94 Z\" fill=\"#000000\" fill-rule=\"evenodd\" fill-opacity=\"1\" /><path clip-path=\"url(#clip250)\" d=\"M144.996 1076.34 Q141.385 1076.34 139.556 1079.9 Q137.751 1083.44 137.751 1090.57 Q137.751 1097.68 139.556 1101.24 Q141.385 1104.78 144.996 1104.78 Q148.63 1104.78 150.436 1101.24 Q152.265 1097.68 152.265 1090.57 Q152.265 1083.44 150.436 1079.9 Q148.63 1076.34 144.996 1076.34 M144.996 1072.63 Q150.806 1072.63 153.862 1077.24 Q156.941 1081.82 156.941 1090.57 Q156.941 1099.3 153.862 1103.9 Q150.806 1108.49 144.996 1108.49 Q139.186 1108.49 136.107 1103.9 Q133.052 1099.3 133.052 1090.57 Q133.052 1081.82 136.107 1077.24 Q139.186 1072.63 144.996 1072.63 Z\" fill=\"#000000\" fill-rule=\"evenodd\" fill-opacity=\"1\" /><path clip-path=\"url(#clip250)\" d=\"M100.76 772.188 Q97.1493 772.188 95.3206 775.753 Q93.515 779.294 93.515 786.424 Q93.515 793.53 95.3206 797.095 Q97.1493 800.637 100.76 800.637 Q104.395 800.637 106.2 797.095 Q108.029 793.53 108.029 786.424 Q108.029 779.294 106.2 775.753 Q104.395 772.188 100.76 772.188 M100.76 768.484 Q106.571 768.484 109.626 773.091 Q112.705 777.674 112.705 786.424 Q112.705 795.151 109.626 799.757 Q106.571 804.34 100.76 804.34 Q94.9502 804.34 91.8715 799.757 Q88.816 795.151 88.816 786.424 Q88.816 777.674 91.8715 773.091 Q94.9502 768.484 100.76 768.484 Z\" fill=\"#000000\" fill-rule=\"evenodd\" fill-opacity=\"1\" /><path clip-path=\"url(#clip250)\" d=\"M120.922 797.79 L125.807 797.79 L125.807 803.669 L120.922 803.669 L120.922 797.79 Z\" fill=\"#000000\" fill-rule=\"evenodd\" fill-opacity=\"1\" /><path clip-path=\"url(#clip250)\" d=\"M136.038 769.109 L154.394 769.109 L154.394 773.044 L140.32 773.044 L140.32 781.516 Q141.339 781.169 142.357 781.007 Q143.376 780.822 144.394 780.822 Q150.181 780.822 153.561 783.993 Q156.941 787.165 156.941 792.581 Q156.941 798.16 153.468 801.262 Q149.996 804.34 143.677 804.34 Q141.501 804.34 139.232 803.97 Q136.987 803.6 134.58 802.859 L134.58 798.16 Q136.663 799.294 138.885 799.85 Q141.107 800.405 143.584 800.405 Q147.589 800.405 149.927 798.299 Q152.265 796.192 152.265 792.581 Q152.265 788.97 149.927 786.864 Q147.589 784.757 143.584 784.757 Q141.709 784.757 139.834 785.174 Q137.982 785.591 136.038 786.47 L136.038 769.109 Z\" fill=\"#000000\" fill-rule=\"evenodd\" fill-opacity=\"1\" /><path clip-path=\"url(#clip250)\" d=\"M90.5752 495.586 L98.2141 495.586 L98.2141 469.221 L89.904 470.888 L89.904 466.628 L98.1678 464.962 L102.844 464.962 L102.844 495.586 L110.483 495.586 L110.483 499.522 L90.5752 499.522 L90.5752 495.586 Z\" fill=\"#000000\" fill-rule=\"evenodd\" fill-opacity=\"1\" /><path clip-path=\"url(#clip250)\" d=\"M119.927 493.642 L124.811 493.642 L124.811 499.522 L119.927 499.522 L119.927 493.642 Z\" fill=\"#000000\" fill-rule=\"evenodd\" fill-opacity=\"1\" /><path clip-path=\"url(#clip250)\" d=\"M144.996 468.04 Q141.385 468.04 139.556 471.605 Q137.751 475.147 137.751 482.276 Q137.751 489.383 139.556 492.948 Q141.385 496.489 144.996 496.489 Q148.63 496.489 150.436 492.948 Q152.265 489.383 152.265 482.276 Q152.265 475.147 150.436 471.605 Q148.63 468.04 144.996 468.04 M144.996 464.337 Q150.806 464.337 153.862 468.943 Q156.941 473.526 156.941 482.276 Q156.941 491.003 153.862 495.61 Q150.806 500.193 144.996 500.193 Q139.186 500.193 136.107 495.61 Q133.052 491.003 133.052 482.276 Q133.052 473.526 136.107 468.943 Q139.186 464.337 144.996 464.337 Z\" fill=\"#000000\" fill-rule=\"evenodd\" fill-opacity=\"1\" /><path clip-path=\"url(#clip250)\" d=\"M91.5706 191.439 L99.2095 191.439 L99.2095 165.073 L90.8993 166.74 L90.8993 162.481 L99.1632 160.814 L103.839 160.814 L103.839 191.439 L111.478 191.439 L111.478 195.374 L91.5706 195.374 L91.5706 191.439 Z\" fill=\"#000000\" fill-rule=\"evenodd\" fill-opacity=\"1\" /><path clip-path=\"url(#clip250)\" d=\"M120.922 189.494 L125.807 189.494 L125.807 195.374 L120.922 195.374 L120.922 189.494 Z\" fill=\"#000000\" fill-rule=\"evenodd\" fill-opacity=\"1\" /><path clip-path=\"url(#clip250)\" d=\"M136.038 160.814 L154.394 160.814 L154.394 164.749 L140.32 164.749 L140.32 173.221 Q141.339 172.874 142.357 172.712 Q143.376 172.527 144.394 172.527 Q150.181 172.527 153.561 175.698 Q156.941 178.87 156.941 184.286 Q156.941 189.865 153.468 192.967 Q149.996 196.045 143.677 196.045 Q141.501 196.045 139.232 195.675 Q136.987 195.305 134.58 194.564 L134.58 189.865 Q136.663 190.999 138.885 191.555 Q141.107 192.11 143.584 192.11 Q147.589 192.11 149.927 190.004 Q152.265 187.897 152.265 184.286 Q152.265 180.675 149.927 178.569 Q147.589 176.462 143.584 176.462 Q141.709 176.462 139.834 176.879 Q137.982 177.295 136.038 178.175 L136.038 160.814 Z\" fill=\"#000000\" fill-rule=\"evenodd\" fill-opacity=\"1\" /><path clip-path=\"url(#clip252)\" d=\"\n",
       "M706.859 1264.91 L480.463 1264.91 L933.255 1264.91 L706.859 1264.91 L706.859 1077.05 L706.859 1264.91  Z\n",
       "  \" fill=\"#009af9\" fill-rule=\"evenodd\" fill-opacity=\"1\"/>\n",
       "<polyline clip-path=\"url(#clip252)\" style=\"stroke:#000000; stroke-linecap:butt; stroke-linejoin:round; stroke-width:4; stroke-opacity:1; fill:none\" points=\"\n",
       "  706.859,1264.91 480.463,1264.91 933.255,1264.91 706.859,1264.91 706.859,1077.05 706.859,1264.91 \n",
       "  \"/>\n",
       "<path clip-path=\"url(#clip252)\" d=\"\n",
       "M1159.65 1077.05 L1159.65 925.861 L254.067 925.861 L254.067 1077.05 L1159.65 1077.05 L1159.65 925.861 L1159.65 1077.05  Z\n",
       "  \" fill=\"#009af9\" fill-rule=\"evenodd\" fill-opacity=\"1\"/>\n",
       "<polyline clip-path=\"url(#clip252)\" style=\"stroke:#000000; stroke-linecap:butt; stroke-linejoin:round; stroke-width:4; stroke-opacity:1; fill:none\" points=\"\n",
       "  1159.65,1077.05 1159.65,925.861 254.067,925.861 254.067,1077.05 1159.65,1077.05 1159.65,925.861 1159.65,1077.05 \n",
       "  \"/>\n",
       "<path clip-path=\"url(#clip252)\" d=\"\n",
       "M1159.65 712.469 L254.067 712.469 L254.067 925.861 L1159.65 925.861 L1159.65 712.469 L706.859 712.469 L1159.65 712.469  Z\n",
       "  \" fill=\"#009af9\" fill-rule=\"evenodd\" fill-opacity=\"1\"/>\n",
       "<polyline clip-path=\"url(#clip252)\" style=\"stroke:#000000; stroke-linecap:butt; stroke-linejoin:round; stroke-width:4; stroke-opacity:1; fill:none\" points=\"\n",
       "  1159.65,712.469 254.067,712.469 254.067,925.861 1159.65,925.861 1159.65,712.469 706.859,712.469 1159.65,712.469 \n",
       "  \"/>\n",
       "<path clip-path=\"url(#clip252)\" d=\"\n",
       "M706.859 291.404 L480.463 291.404 L933.255 291.404 L706.859 291.404 L706.859 712.469 L706.859 291.404  Z\n",
       "  \" fill=\"#009af9\" fill-rule=\"evenodd\" fill-opacity=\"1\"/>\n",
       "<polyline clip-path=\"url(#clip252)\" style=\"stroke:#000000; stroke-linecap:butt; stroke-linejoin:round; stroke-width:4; stroke-opacity:1; fill:none\" points=\"\n",
       "  706.859,291.404 480.463,291.404 933.255,291.404 706.859,291.404 706.859,712.469 706.859,291.404 \n",
       "  \"/>\n",
       "<circle clip-path=\"url(#clip252)\" cx=\"706.859\" cy=\"87.9763\" r=\"14\" fill=\"#009af9\" fill-rule=\"evenodd\" fill-opacity=\"1\" stroke=\"#000000\" stroke-opacity=\"1\" stroke-width=\"3.2\"/>\n",
       "<polyline clip-path=\"url(#clip252)\" style=\"stroke:#009af9; stroke-linecap:butt; stroke-linejoin:round; stroke-width:0; stroke-opacity:1; fill:none\" points=\"\n",
       "  706.859,1264.91 480.463,1264.91 933.255,1264.91 706.859,1264.91 706.859,1077.05 \n",
       "  \"/>\n",
       "<polyline clip-path=\"url(#clip252)\" style=\"stroke:#009af9; stroke-linecap:butt; stroke-linejoin:round; stroke-width:0; stroke-opacity:1; fill:none\" points=\"\n",
       "  1159.65,1077.05 1159.65,925.861 254.067,925.861 254.067,1077.05 1159.65,1077.05 1159.65,925.861 \n",
       "  \"/>\n",
       "<polyline clip-path=\"url(#clip252)\" style=\"stroke:#009af9; stroke-linecap:butt; stroke-linejoin:round; stroke-width:0; stroke-opacity:1; fill:none\" points=\"\n",
       "  1159.65,712.469 254.067,712.469 254.067,925.861 1159.65,925.861 1159.65,712.469 706.859,712.469 \n",
       "  \"/>\n",
       "<polyline clip-path=\"url(#clip252)\" style=\"stroke:#009af9; stroke-linecap:butt; stroke-linejoin:round; stroke-width:0; stroke-opacity:1; fill:none\" points=\"\n",
       "  706.859,291.404 480.463,291.404 933.255,291.404 706.859,291.404 706.859,712.469 \n",
       "  \"/>\n",
       "<path clip-path=\"url(#clip252)\" d=\"\n",
       "M1838.84 1445.72 L1612.44 1445.72 L2065.23 1445.72 L1838.84 1445.72 L1838.84 1140.8 L1838.84 1445.72  Z\n",
       "  \" fill=\"#e26f46\" fill-rule=\"evenodd\" fill-opacity=\"1\"/>\n",
       "<polyline clip-path=\"url(#clip252)\" style=\"stroke:#000000; stroke-linecap:butt; stroke-linejoin:round; stroke-width:4; stroke-opacity:1; fill:none\" points=\"\n",
       "  1838.84,1445.72 1612.44,1445.72 2065.23,1445.72 1838.84,1445.72 1838.84,1140.8 1838.84,1445.72 \n",
       "  \"/>\n",
       "<path clip-path=\"url(#clip252)\" d=\"\n",
       "M2291.63 1140.8 L2291.63 947.995 L1386.05 947.995 L1386.05 1140.8 L2291.63 1140.8 L2291.63 947.995 L2291.63 1140.8  Z\n",
       "  \" fill=\"#e26f46\" fill-rule=\"evenodd\" fill-opacity=\"1\"/>\n",
       "<polyline clip-path=\"url(#clip252)\" style=\"stroke:#000000; stroke-linecap:butt; stroke-linejoin:round; stroke-width:4; stroke-opacity:1; fill:none\" points=\"\n",
       "  2291.63,1140.8 2291.63,947.995 1386.05,947.995 1386.05,1140.8 2291.63,1140.8 2291.63,947.995 2291.63,1140.8 \n",
       "  \"/>\n",
       "<path clip-path=\"url(#clip252)\" d=\"\n",
       "M2291.63 702.07 L1386.05 702.07 L1386.05 947.995 L2291.63 947.995 L2291.63 702.07 L1838.84 702.07 L2291.63 702.07  Z\n",
       "  \" fill=\"#e26f46\" fill-rule=\"evenodd\" fill-opacity=\"1\"/>\n",
       "<polyline clip-path=\"url(#clip252)\" style=\"stroke:#000000; stroke-linecap:butt; stroke-linejoin:round; stroke-width:4; stroke-opacity:1; fill:none\" points=\"\n",
       "  2291.63,702.07 1386.05,702.07 1386.05,947.995 2291.63,947.995 2291.63,702.07 1838.84,702.07 2291.63,702.07 \n",
       "  \"/>\n",
       "<path clip-path=\"url(#clip252)\" d=\"\n",
       "M1838.84 178.094 L1612.44 178.094 L2065.23 178.094 L1838.84 178.094 L1838.84 702.07 L1838.84 178.094  Z\n",
       "  \" fill=\"#e26f46\" fill-rule=\"evenodd\" fill-opacity=\"1\"/>\n",
       "<polyline clip-path=\"url(#clip252)\" style=\"stroke:#000000; stroke-linecap:butt; stroke-linejoin:round; stroke-width:4; stroke-opacity:1; fill:none\" points=\"\n",
       "  1838.84,178.094 1612.44,178.094 2065.23,178.094 1838.84,178.094 1838.84,702.07 1838.84,178.094 \n",
       "  \"/>\n",
       "<polyline clip-path=\"url(#clip252)\" style=\"stroke:#e26f46; stroke-linecap:butt; stroke-linejoin:round; stroke-width:0; stroke-opacity:1; fill:none\" points=\"\n",
       "  1838.84,1445.72 1612.44,1445.72 2065.23,1445.72 1838.84,1445.72 1838.84,1140.8 \n",
       "  \"/>\n",
       "<polyline clip-path=\"url(#clip252)\" style=\"stroke:#e26f46; stroke-linecap:butt; stroke-linejoin:round; stroke-width:0; stroke-opacity:1; fill:none\" points=\"\n",
       "  2291.63,1140.8 2291.63,947.995 1386.05,947.995 1386.05,1140.8 2291.63,1140.8 2291.63,947.995 \n",
       "  \"/>\n",
       "<polyline clip-path=\"url(#clip252)\" style=\"stroke:#e26f46; stroke-linecap:butt; stroke-linejoin:round; stroke-width:0; stroke-opacity:1; fill:none\" points=\"\n",
       "  2291.63,702.07 1386.05,702.07 1386.05,947.995 2291.63,947.995 2291.63,702.07 1838.84,702.07 \n",
       "  \"/>\n",
       "<polyline clip-path=\"url(#clip252)\" style=\"stroke:#e26f46; stroke-linecap:butt; stroke-linejoin:round; stroke-width:0; stroke-opacity:1; fill:none\" points=\"\n",
       "  1838.84,178.094 1612.44,178.094 2065.23,178.094 1838.84,178.094 1838.84,702.07 \n",
       "  \"/>\n",
       "<path clip-path=\"url(#clip250)\" d=\"\n",
       "M1838.33 250.738 L2280.76 250.738 L2280.76 95.2176 L1838.33 95.2176  Z\n",
       "  \" fill=\"#ffffff\" fill-rule=\"evenodd\" fill-opacity=\"1\"/>\n",
       "<polyline clip-path=\"url(#clip250)\" style=\"stroke:#000000; stroke-linecap:butt; stroke-linejoin:round; stroke-width:4; stroke-opacity:1; fill:none\" points=\"\n",
       "  1838.33,250.738 2280.76,250.738 2280.76,95.2176 1838.33,95.2176 1838.33,250.738 \n",
       "  \"/>\n",
       "<path clip-path=\"url(#clip250)\" d=\"\n",
       "M1862.33 167.794 L2006.32 167.794 L2006.32 126.322 L1862.33 126.322 L1862.33 167.794  Z\n",
       "  \" fill=\"#009af9\" fill-rule=\"evenodd\" fill-opacity=\"1\"/>\n",
       "<polyline clip-path=\"url(#clip250)\" style=\"stroke:#000000; stroke-linecap:butt; stroke-linejoin:round; stroke-width:4; stroke-opacity:1; fill:none\" points=\"\n",
       "  1862.33,167.794 2006.32,167.794 2006.32,126.322 1862.33,126.322 1862.33,167.794 \n",
       "  \"/>\n",
       "<path clip-path=\"url(#clip250)\" d=\"M2030.31 129.778 L2034.99 129.778 L2034.99 160.402 L2051.82 160.402 L2051.82 164.338 L2030.31 164.338 L2030.31 129.778 Z\" fill=\"#000000\" fill-rule=\"evenodd\" fill-opacity=\"1\" /><path clip-path=\"url(#clip250)\" d=\"M2077.88 150.31 L2077.88 152.393 L2058.3 152.393 Q2058.58 156.791 2060.94 159.106 Q2063.32 161.398 2067.56 161.398 Q2070.01 161.398 2072.3 160.796 Q2074.62 160.194 2076.89 158.99 L2076.89 163.018 Q2074.6 163.99 2072.19 164.5 Q2069.78 165.009 2067.3 165.009 Q2061.1 165.009 2057.47 161.398 Q2053.86 157.787 2053.86 151.629 Q2053.86 145.264 2057.28 141.537 Q2060.73 137.787 2066.56 137.787 Q2071.79 137.787 2074.83 141.166 Q2077.88 144.523 2077.88 150.31 M2073.62 149.06 Q2073.58 145.565 2071.66 143.481 Q2069.76 141.398 2066.61 141.398 Q2063.04 141.398 2060.89 143.412 Q2058.76 145.426 2058.44 149.083 L2073.62 149.06 Z\" fill=\"#000000\" fill-rule=\"evenodd\" fill-opacity=\"1\" /><path clip-path=\"url(#clip250)\" d=\"M2088.99 160.449 L2088.99 174.199 L2084.71 174.199 L2084.71 138.412 L2088.99 138.412 L2088.99 142.347 Q2090.34 140.032 2092.37 138.921 Q2094.43 137.787 2097.28 137.787 Q2102 137.787 2104.94 141.537 Q2107.91 145.287 2107.91 151.398 Q2107.91 157.509 2104.94 161.259 Q2102 165.009 2097.28 165.009 Q2094.43 165.009 2092.37 163.898 Q2090.34 162.763 2088.99 160.449 M2103.48 151.398 Q2103.48 146.699 2101.54 144.037 Q2099.62 141.352 2096.24 141.352 Q2092.86 141.352 2090.92 144.037 Q2088.99 146.699 2088.99 151.398 Q2088.99 156.097 2090.92 158.782 Q2092.86 161.444 2096.24 161.444 Q2099.62 161.444 2101.54 158.782 Q2103.48 156.097 2103.48 151.398 Z\" fill=\"#000000\" fill-rule=\"evenodd\" fill-opacity=\"1\" /><path clip-path=\"url(#clip250)\" d=\"M2131.49 139.176 L2131.49 143.203 Q2129.69 142.277 2127.74 141.815 Q2125.8 141.352 2123.72 141.352 Q2120.54 141.352 2118.95 142.324 Q2117.37 143.296 2117.37 145.24 Q2117.37 146.722 2118.51 147.578 Q2119.64 148.412 2123.07 149.176 L2124.53 149.5 Q2129.06 150.472 2130.96 152.254 Q2132.88 154.014 2132.88 157.185 Q2132.88 160.796 2130.01 162.902 Q2127.16 165.009 2122.16 165.009 Q2120.08 165.009 2117.81 164.592 Q2115.57 164.199 2113.07 163.388 L2113.07 158.99 Q2115.43 160.217 2117.72 160.842 Q2120.01 161.444 2122.26 161.444 Q2125.27 161.444 2126.89 160.426 Q2128.51 159.384 2128.51 157.509 Q2128.51 155.773 2127.33 154.847 Q2126.17 153.921 2122.21 153.064 L2120.73 152.717 Q2116.77 151.884 2115.01 150.171 Q2113.25 148.435 2113.25 145.426 Q2113.25 141.768 2115.85 139.778 Q2118.44 137.787 2123.21 137.787 Q2125.57 137.787 2127.65 138.134 Q2129.73 138.481 2131.49 139.176 Z\" fill=\"#000000\" fill-rule=\"evenodd\" fill-opacity=\"1\" /><path clip-path=\"url(#clip250)\" d=\"M2139.5 128.319 L2143.79 128.319 L2143.79 149.592 L2156.49 138.412 L2161.93 138.412 L2148.18 150.541 L2162.51 164.338 L2156.96 164.338 L2143.79 151.676 L2143.79 164.338 L2139.5 164.338 L2139.5 128.319 Z\" fill=\"#000000\" fill-rule=\"evenodd\" fill-opacity=\"1\" /><path clip-path=\"url(#clip250)\" d=\"M2167.12 138.412 L2171.38 138.412 L2171.38 164.338 L2167.12 164.338 L2167.12 138.412 M2167.12 128.319 L2171.38 128.319 L2171.38 133.713 L2167.12 133.713 L2167.12 128.319 Z\" fill=\"#000000\" fill-rule=\"evenodd\" fill-opacity=\"1\" /><path clip-path=\"url(#clip250)\" d=\"\n",
       "M1862.33 219.634 L2006.32 219.634 L2006.32 178.162 L1862.33 178.162 L1862.33 219.634  Z\n",
       "  \" fill=\"#e26f46\" fill-rule=\"evenodd\" fill-opacity=\"1\"/>\n",
       "<polyline clip-path=\"url(#clip250)\" style=\"stroke:#000000; stroke-linecap:butt; stroke-linejoin:round; stroke-width:4; stroke-opacity:1; fill:none\" points=\"\n",
       "  1862.33,219.634 2006.32,219.634 2006.32,178.162 1862.33,178.162 1862.33,219.634 \n",
       "  \"/>\n",
       "<path clip-path=\"url(#clip250)\" d=\"M2030.31 181.618 L2034.99 181.618 L2034.99 195.784 L2051.98 195.784 L2051.98 181.618 L2056.66 181.618 L2056.66 216.178 L2051.98 216.178 L2051.98 199.719 L2034.99 199.719 L2034.99 216.178 L2030.31 216.178 L2030.31 181.618 Z\" fill=\"#000000\" fill-rule=\"evenodd\" fill-opacity=\"1\" /><path clip-path=\"url(#clip250)\" d=\"M2087.95 202.15 L2087.95 204.233 L2068.37 204.233 Q2068.65 208.631 2071.01 210.946 Q2073.39 213.238 2077.63 213.238 Q2080.08 213.238 2082.37 212.636 Q2084.69 212.034 2086.96 210.83 L2086.96 214.858 Q2084.67 215.83 2082.26 216.34 Q2079.85 216.849 2077.37 216.849 Q2071.17 216.849 2067.54 213.238 Q2063.92 209.627 2063.92 203.469 Q2063.92 197.104 2067.35 193.377 Q2070.8 189.627 2076.63 189.627 Q2081.86 189.627 2084.9 193.006 Q2087.95 196.363 2087.95 202.15 M2083.69 200.9 Q2083.65 197.405 2081.73 195.321 Q2079.83 193.238 2076.68 193.238 Q2073.11 193.238 2070.96 195.252 Q2068.83 197.266 2068.51 200.923 L2083.69 200.9 Z\" fill=\"#000000\" fill-rule=\"evenodd\" fill-opacity=\"1\" /><path clip-path=\"url(#clip250)\" d=\"M2094.5 205.946 L2094.5 190.252 L2098.76 190.252 L2098.76 205.784 Q2098.76 209.465 2100.2 211.316 Q2101.63 213.145 2104.5 213.145 Q2107.95 213.145 2109.94 210.946 Q2111.96 208.747 2111.96 204.951 L2111.96 190.252 L2116.22 190.252 L2116.22 216.178 L2111.96 216.178 L2111.96 212.196 Q2110.41 214.557 2108.35 215.715 Q2106.31 216.849 2103.6 216.849 Q2099.13 216.849 2096.82 214.071 Q2094.5 211.293 2094.5 205.946 M2105.22 189.627 L2105.22 189.627 Z\" fill=\"#000000\" fill-rule=\"evenodd\" fill-opacity=\"1\" /><path clip-path=\"url(#clip250)\" d=\"M2140.01 194.233 Q2139.29 193.817 2138.44 193.631 Q2137.6 193.423 2136.59 193.423 Q2132.98 193.423 2131.03 195.784 Q2129.11 198.122 2129.11 202.52 L2129.11 216.178 L2124.83 216.178 L2124.83 190.252 L2129.11 190.252 L2129.11 194.28 Q2130.45 191.918 2132.6 190.784 Q2134.76 189.627 2137.84 189.627 Q2138.28 189.627 2138.81 189.696 Q2139.34 189.743 2139.99 189.858 L2140.01 194.233 Z\" fill=\"#000000\" fill-rule=\"evenodd\" fill-opacity=\"1\" /><path clip-path=\"url(#clip250)\" d=\"M2144.48 190.252 L2148.74 190.252 L2148.74 216.178 L2144.48 216.178 L2144.48 190.252 M2144.48 180.159 L2148.74 180.159 L2148.74 185.553 L2144.48 185.553 L2144.48 180.159 Z\" fill=\"#000000\" fill-rule=\"evenodd\" fill-opacity=\"1\" /><path clip-path=\"url(#clip250)\" d=\"M2174.18 191.016 L2174.18 195.043 Q2172.37 194.117 2170.43 193.655 Q2168.48 193.192 2166.4 193.192 Q2163.23 193.192 2161.63 194.164 Q2160.06 195.136 2160.06 197.08 Q2160.06 198.562 2161.19 199.418 Q2162.33 200.252 2165.75 201.016 L2167.21 201.34 Q2171.75 202.312 2173.65 204.094 Q2175.57 205.854 2175.57 209.025 Q2175.57 212.636 2172.7 214.742 Q2169.85 216.849 2164.85 216.849 Q2162.77 216.849 2160.5 216.432 Q2158.25 216.039 2155.75 215.228 L2155.75 210.83 Q2158.11 212.057 2160.41 212.682 Q2162.7 213.284 2164.94 213.284 Q2167.95 213.284 2169.57 212.266 Q2171.19 211.224 2171.19 209.349 Q2171.19 207.613 2170.01 206.687 Q2168.85 205.761 2164.9 204.904 L2163.41 204.557 Q2159.46 203.724 2157.7 202.011 Q2155.94 200.275 2155.94 197.266 Q2155.94 193.608 2158.53 191.618 Q2161.12 189.627 2165.89 189.627 Q2168.25 189.627 2170.34 189.974 Q2172.42 190.321 2174.18 191.016 Z\" fill=\"#000000\" fill-rule=\"evenodd\" fill-opacity=\"1\" /><path clip-path=\"url(#clip250)\" d=\"M2186.56 182.891 L2186.56 190.252 L2195.34 190.252 L2195.34 193.562 L2186.56 193.562 L2186.56 207.636 Q2186.56 210.807 2187.42 211.71 Q2188.3 212.613 2190.96 212.613 L2195.34 212.613 L2195.34 216.178 L2190.96 216.178 Q2186.03 216.178 2184.16 214.349 Q2182.28 212.497 2182.28 207.636 L2182.28 193.562 L2179.16 193.562 L2179.16 190.252 L2182.28 190.252 L2182.28 182.891 L2186.56 182.891 Z\" fill=\"#000000\" fill-rule=\"evenodd\" fill-opacity=\"1\" /><path clip-path=\"url(#clip250)\" d=\"M2200.94 190.252 L2205.2 190.252 L2205.2 216.178 L2200.94 216.178 L2200.94 190.252 M2200.94 180.159 L2205.2 180.159 L2205.2 185.553 L2200.94 185.553 L2200.94 180.159 Z\" fill=\"#000000\" fill-rule=\"evenodd\" fill-opacity=\"1\" /><path clip-path=\"url(#clip250)\" d=\"M2232.77 191.247 L2232.77 195.229 Q2230.96 194.233 2229.13 193.747 Q2227.33 193.238 2225.47 193.238 Q2221.33 193.238 2219.04 195.877 Q2216.75 198.492 2216.75 203.238 Q2216.75 207.983 2219.04 210.622 Q2221.33 213.238 2225.47 213.238 Q2227.33 213.238 2229.13 212.752 Q2230.96 212.242 2232.77 211.247 L2232.77 215.182 Q2230.98 216.016 2229.06 216.432 Q2227.16 216.849 2225.01 216.849 Q2219.16 216.849 2215.71 213.168 Q2212.26 209.488 2212.26 203.238 Q2212.26 196.895 2215.73 193.261 Q2219.22 189.627 2225.29 189.627 Q2227.26 189.627 2229.13 190.043 Q2231.01 190.437 2232.77 191.247 Z\" fill=\"#000000\" fill-rule=\"evenodd\" fill-opacity=\"1\" /></svg>\n"
      ]
     },
     "execution_count": 13,
     "metadata": {},
     "output_type": "execute_result"
    }
   ],
   "source": [
    "plt = boxplot(Lep, label = \"Lepski\", legend = :topright)\n",
    "boxplot(plt, Heu,  label = \"Heuristic\")"
   ]
  }
 ],
 "metadata": {
  "kernelspec": {
   "display_name": "Julia 1.7.3",
   "language": "julia",
   "name": "julia-1.7"
  },
  "language_info": {
   "file_extension": ".jl",
   "mimetype": "application/julia",
   "name": "julia",
   "version": "1.7.3"
  }
 },
 "nbformat": 4,
 "nbformat_minor": 4
}
