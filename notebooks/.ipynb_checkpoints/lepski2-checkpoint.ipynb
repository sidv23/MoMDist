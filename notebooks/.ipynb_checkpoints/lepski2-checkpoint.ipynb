{
 "cells": [
  {
   "cell_type": "code",
   "execution_count": null,
   "metadata": {},
   "outputs": [],
   "source": [
    "using DrWatson\n",
    "@quickactivate \"momdist\""
   ]
  },
  {
   "cell_type": "code",
   "execution_count": null,
   "metadata": {},
   "outputs": [],
   "source": [
    "using PersistenceDiagrams, PersistenceDiagramsBase, Ripserer\n",
    "using Distributions, Distances, JLD2, LinearAlgebra, Parameters, Pipe, Plots\n",
    "using LazySets, LambertW, ProgressMeter, Random, Statistics, StatsPlots\n",
    "\n",
    "import RobustTDA as rtda"
   ]
  },
  {
   "cell_type": "code",
   "execution_count": null,
   "metadata": {},
   "outputs": [],
   "source": [
    "ProgressMeter.ijulia_behavior(:warn)\n",
    "plot_par = rtda.plot_params(alpha=0.3)\n",
    "theme(:dao)"
   ]
  },
  {
   "cell_type": "code",
   "execution_count": null,
   "metadata": {},
   "outputs": [],
   "source": [
    "function randomRotation(; d=3)\n",
    "    A = randn(d, d)\n",
    "    M = (A + A') ./ √2\n",
    "    _, U = eigen(M)\n",
    "    return U\n",
    "end\n",
    "\n",
    "function interlockedCircles(n; args...)\n",
    "    R = [1 0 0; 0 0 -1; 0 1 0]\n",
    "    X1 = [[x...; 0] for x in rtda.randCircle(n)]\n",
    "    X2 = [R * ([x...; 0] .+ [1.0, 0.0, 0.0]) for x in rtda.randCircle(n)]\n",
    "    return [X1; X2]\n",
    "end"
   ]
  },
  {
   "cell_type": "code",
   "execution_count": null,
   "metadata": {},
   "outputs": [],
   "source": [
    "begin\n",
    "    Random.seed!(2022)\n",
    "    m = 150\n",
    "    n = 7 * m\n",
    "    dim = 10\n",
    "    R = randomRotation(d=dim)\n",
    "\n",
    "    points = interlockedCircles(n)\n",
    "    signal = [Tuple(R * [x...; zeros(dim - 3)]) for x in points]\n",
    "\n",
    "    l = 1\n",
    "    win = (-l, l, -l, l)\n",
    "    R = product_distribution(repeat([Uniform(-1, 1)], dim))\n",
    "    noise = [rand(R) for _ in 1:m]\n",
    "\n",
    "    X = [signal; noise]\n",
    "    Xn = [[x...] for x in X]\n",
    "end;"
   ]
  },
  {
   "cell_type": "code",
   "execution_count": null,
   "metadata": {},
   "outputs": [],
   "source": [
    "scatter(Tuple.(points), ratio=1, label=\"signal\", legend=:bottomright)"
   ]
  },
  {
   "cell_type": "code",
   "execution_count": null,
   "metadata": {},
   "outputs": [],
   "source": [
    "# Initialize Lepski Parameters\n",
    "θ = rtda.lepski_params(\n",
    "    a=0.1,\n",
    "    b=1,\n",
    "    mmin=100,\n",
    "    mmax=500,\n",
    "    pi=1.15,\n",
    "    δ=0.01\n",
    ")\n",
    "\n",
    "# Calibration\n",
    "M = rtda.lepski(Xn=Xn, params=θ)"
   ]
  },
  {
   "cell_type": "code",
   "execution_count": null,
   "metadata": {},
   "outputs": [],
   "source": [
    "# Refined Lepski\n",
    "θ = rtda.lepski_params(\n",
    "    a=0.2,\n",
    "    b=1,\n",
    "    mmin=round(Int, 0.5 * M),\n",
    "    mmax=round(Int, 1 * M),\n",
    "    pi=1.07,\n",
    "    δ=0.01\n",
    ")\n",
    "M = rtda.lepski(Xn=Xn, params=θ)"
   ]
  },
  {
   "cell_type": "code",
   "execution_count": null,
   "metadata": {},
   "outputs": [],
   "source": [
    "theme(:default)"
   ]
  },
  {
   "cell_type": "code",
   "execution_count": null,
   "metadata": {},
   "outputs": [],
   "source": [
    "Q = 2 * M + 1\n",
    "dnq = rtda.momdist(Xn, floor(Int, Q))\n",
    "w_momdist = rtda.fit(Xn, dnq)\n",
    "D1 = rtda.wrips(Xn, w=w_momdist, p=1)"
   ]
  },
  {
   "cell_type": "code",
   "execution_count": null,
   "metadata": {},
   "outputs": [],
   "source": [
    "plot(D1[2], title=\"MoM\", lim=(0.5, 2), markeralpha=1)"
   ]
  },
  {
   "cell_type": "code",
   "execution_count": null,
   "metadata": {},
   "outputs": [],
   "source": [
    "dnm = rtda.dtm(Xn, Q / n)\n",
    "w_dtm = rtda.fit(Xn, dnm)\n",
    "D2 = rtda.wrips(Xn, w=w_dtm, p=1)"
   ]
  },
  {
   "cell_type": "code",
   "execution_count": null,
   "metadata": {},
   "outputs": [],
   "source": [
    "plot(D2[2], title=\"DTM\", lim=(0.5, 2), markeralpha=1)"
   ]
  }
 ],
 "metadata": {
  "kernelspec": {
   "display_name": "Julia 1.7.1",
   "language": "julia",
   "name": "julia-1.7"
  },
  "language_info": {
   "file_extension": ".jl",
   "mimetype": "application/julia",
   "name": "julia",
   "version": "1.7.1"
  }
 },
 "nbformat": 4,
 "nbformat_minor": 4
}
